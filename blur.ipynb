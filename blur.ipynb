{
 "cells": [
  {
   "cell_type": "code",
   "execution_count": null,
   "metadata": {},
   "outputs": [],
   "source": [
    "import numpy as np\n",
    "from PIL import Image\n",
    "import functools"
   ]
  },
  {
   "cell_type": "code",
   "execution_count": 41,
   "metadata": {},
   "outputs": [
    {
     "name": "stdout",
     "output_type": "stream",
     "text": [
      "(1080, 1920, 4)\n"
     ]
    },
    {
     "name": "stdout",
     "output_type": "stream",
     "text": [
      "Opening in existing browser session.\n"
     ]
    },
    {
     "name": "stderr",
     "output_type": "stream",
     "text": [
      "libva error: vaGetDriverNameByIndex() failed with unknown libva error, driver_name = (null)\n"
     ]
    }
   ],
   "source": [
    "i = Image.open(\"/home/srinivas/Pictures/Screenshots/Screenshot from 2022-05-02 13-50-59.png\")\n",
    "i.show()\n",
    "arr = np.array(i)\n",
    "print(arr.shape)"
   ]
  },
  {
   "cell_type": "code",
   "execution_count": 40,
   "metadata": {},
   "outputs": [
    {
     "name": "stdout",
     "output_type": "stream",
     "text": [
      "Opening in existing browser session.\n"
     ]
    },
    {
     "name": "stderr",
     "output_type": "stream",
     "text": [
      "libva error: vaGetDriverNameByIndex() failed with unknown libva error, driver_name = (null)\n"
     ]
    }
   ],
   "source": [
    "def blur():\n",
    "    rv = np.zeros_like(arr)\n",
    "    for i in range(len(arr)):\n",
    "        for j in range(len(arr[0])):\n",
    "            rv[i][j] = avg_c(arr, i, j)\n",
    "    i2 = Image.fromarray(rv)\n",
    "    i2.show()\n",
    "blur()"
   ]
  },
  {
   "cell_type": "code",
   "execution_count": 39,
   "metadata": {},
   "outputs": [],
   "source": [
    "f = [lambda x: x[0], lambda x: x[2], lambda x: x[2], ]\n",
    "\n",
    "def avg_c(arr: np.array, i: int, j: int) -> np.array:\n",
    "    rv = np.full_like(arr[i][j], 255)\n",
    "    avg_color = get_adjacent_pixels(arr, i, j)\n",
    "\n",
    "    for i in range(len(f)):\n",
    "        rv[i] = functools.reduce(lambda x, y: f[i](y) + x, avg_color, 0) / len(avg_color)\n",
    "\n",
    "    return rv\n",
    "avg_color = [arr[i][0], arr[i-1][0], arr[i+1]\n",
    "                     [0], arr[i][1], arr[i-1][1], arr[i][1]]"
   ]
  },
  {
   "cell_type": "code",
   "execution_count": 36,
   "metadata": {},
   "outputs": [],
   "source": [
    "def get_adjacent_pixels(arr: np.array, i: int, j: int) -> list[np.array]:\n",
    "    is_i_end = (i < len(arr)) and (i > 0)\n",
    "    is_j_end = (j < len(arr[0])) and (j > 0)\n",
    "\n",
    "    if (is_i_end and is_j_end):\n",
    "        return [arr[i-1][j-1], arr[i-1][j], arr[i][j], arr[i][j-1]]\n",
    "    elif (is_i_end):\n",
    "        if (i > 0):\n",
    "            return [arr[i-1][j-1], arr[i-1][j], arr[i-1][j+1], arr[i][j], arr[i][j-1], arr[i][j+1]]\n",
    "        else:\n",
    "            return [arr[i][j], arr[i][j-1], arr[i][j+1], arr[i+1][j-1], arr[i+1][j], arr[i+1][j+1]]\n",
    "    elif (is_j_end):\n",
    "        if (j > 0):\n",
    "            return [arr[i-1][j-1], arr[i-1][j], arr[i][j], arr[i][j-1], arr[i+1][j-1], arr[i+1][j]]\n",
    "        else:\n",
    "            return [arr[i-1][j], arr[i-1][j+1], arr[i][j], arr[i][j+1], arr[i+1][j], arr[i+1][j+1]]\n",
    "    return [arr[i-1][j-1], arr[i-1][j], arr[i-1][j+1], arr[i][j], arr[i][j-1], arr[i][j+1], arr[i+1][j-1], arr[i+1][j], arr[i+1][j+1]]\n"
   ]
  },
  {
   "cell_type": "code",
   "execution_count": null,
   "metadata": {},
   "outputs": [],
   "source": []
  }
 ],
 "metadata": {
  "kernelspec": {
   "display_name": "Python 3.10.5 64-bit",
   "language": "python",
   "name": "python3"
  },
  "language_info": {
   "codemirror_mode": {
    "name": "ipython",
    "version": 3
   },
   "file_extension": ".py",
   "mimetype": "text/x-python",
   "name": "python",
   "nbconvert_exporter": "python",
   "pygments_lexer": "ipython3",
   "version": "3.10.5"
  },
  "orig_nbformat": 4,
  "vscode": {
   "interpreter": {
    "hash": "767d51c1340bd893661ea55ea3124f6de3c7a262a8b4abca0554b478b1e2ff90"
   }
  }
 },
 "nbformat": 4,
 "nbformat_minor": 2
}
